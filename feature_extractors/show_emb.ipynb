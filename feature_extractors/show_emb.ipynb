{
 "cells": [
  {
   "cell_type": "code",
   "execution_count": 1,
   "metadata": {},
   "outputs": [],
   "source": [
    "import yaml\n",
    "import os\n",
    "import sys\n",
    "import torch\n",
    "from utils import *\n",
    "from models import *\n",
    "from tqdm import tqdm\n",
    "import pickle as pkl\n",
    "from datetime import datetime\n",
    "from PIL import Image\n",
    "from torchvision.utils import save_image\n",
    "import numpy as np"
   ]
  },
  {
   "cell_type": "code",
   "execution_count": 5,
   "metadata": {},
   "outputs": [
    {
     "name": "stdout",
     "output_type": "stream",
     "text": [
      "64 64\n",
      "dict_keys(['partition', 'subject', 'study', 'dicom', 'embedding'])\n"
     ]
    }
   ],
   "source": [
    "with open('embeddings/autoencoder_2025-04-03-23-05.pkl', 'rb') as f:\n",
    "    embs = pkl.load(f)\n",
    "\n",
    "# print(embs[0])\n",
    "print(len(embs[0]['partition']), len(embs[0]['embedding']))\n",
    "print(embs[0].keys())"
   ]
  },
  {
   "cell_type": "code",
   "execution_count": null,
   "metadata": {},
   "outputs": [
    {
     "name": "stdout",
     "output_type": "stream",
     "text": [
      "14058\n",
      "14080\n"
     ]
    }
   ],
   "source": [
    "# preprocess embeddings to separate batches\n",
    "new_embs = []\n",
    "for i in range(len(embs)):\n",
    "    for j in range(len(embs[i]['partition'])):\n",
    "        new_embs.append({\n",
    "            'partition': embs[i]['partition'][j],\n",
    "            'subject': embs[i]['subject'][j],\n",
    "            'study': embs[i]['study'][j],\n",
    "            'dicom': embs[i]['dicom'][j], \n",
    "            'embedding': embs[i]['embedding'][j]\n",
    "        })"
   ]
  },
  {
   "cell_type": "code",
   "execution_count": 8,
   "metadata": {},
   "outputs": [],
   "source": [
    "with open('embeddings/autoencoder_2025-04-03-23-05_unbatched.pkl', 'wb') as f:\n",
    "    pkl.dump(new_embs, f)"
   ]
  }
 ],
 "metadata": {
  "kernelspec": {
   "display_name": "torch",
   "language": "python",
   "name": "python3"
  },
  "language_info": {
   "codemirror_mode": {
    "name": "ipython",
    "version": 3
   },
   "file_extension": ".py",
   "mimetype": "text/x-python",
   "name": "python",
   "nbconvert_exporter": "python",
   "pygments_lexer": "ipython3",
   "version": "3.10.16"
  }
 },
 "nbformat": 4,
 "nbformat_minor": 2
}
